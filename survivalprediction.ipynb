{
  "nbformat": 4,
  "nbformat_minor": 0,
  "metadata": {
    "colab": {
      "provenance": []
    },
    "kernelspec": {
      "name": "python3",
      "display_name": "Python 3"
    },
    "language_info": {
      "name": "python"
    }
  },
  "cells": [
    {
      "cell_type": "markdown",
      "source": [
        "# AI/ML Challenge\n",
        "\n",
        "### Arya Suneesh\n",
        "\n",
        "---\n",
        "<br>\n",
        "A hospital in the province of Greenland has been trying to improve its care conditions by looking at historic survival of the patients. They tried looking at their data but could not identify the main factors leading to high survivals."
      ],
      "metadata": {
        "id": "4VGON4bNBRgQ"
      }
    },
    {
      "cell_type": "markdown",
      "source": [
        "## Importing necessary modules"
      ],
      "metadata": {
        "id": "o5UkbJiEBrgJ"
      }
    },
    {
      "cell_type": "code",
      "execution_count": 1,
      "metadata": {
        "id": "ii2o27j3Sysb"
      },
      "outputs": [],
      "source": [
        "import pandas as pd\n",
        "import numpy as np\n",
        "\n",
        "from sklearn.model_selection import train_test_split\n",
        "from sklearn.tree import DecisionTreeClassifier"
      ]
    },
    {
      "cell_type": "markdown",
      "source": [
        "## Importing training and testing dataset"
      ],
      "metadata": {
        "id": "XLIjU0P-BuyB"
      }
    },
    {
      "cell_type": "code",
      "source": [
        "pharma_data = pd.read_csv('https://raw.githubusercontent.com/dphi-official/Datasets/master/pharma_data/Training_set_begs.csv')"
      ],
      "metadata": {
        "id": "JmXoqgSrTB_U"
      },
      "execution_count": 2,
      "outputs": []
    },
    {
      "cell_type": "code",
      "source": [
        "pharma_data.head()"
      ],
      "metadata": {
        "colab": {
          "base_uri": "https://localhost:8080/",
          "height": 270
        },
        "id": "ToVtc8hCTXiD",
        "outputId": "c29e6b85-e7bc-4d95-b8a3-a751012a3d62"
      },
      "execution_count": 3,
      "outputs": [
        {
          "output_type": "execute_result",
          "data": {
            "text/plain": [
              "   ID_Patient_Care_Situation  Diagnosed_Condition  Patient_ID  \\\n",
              "0                      22374                    8        3333   \n",
              "1                      18164                    5        5740   \n",
              "2                       6283                   23       10446   \n",
              "3                       5339                   51       12011   \n",
              "4                      33012                    0       12513   \n",
              "\n",
              "  Treated_with_drugs  Patient_Age  Patient_Body_Mass_Index Patient_Smoker  \\\n",
              "0                DX6           56                18.479385            YES   \n",
              "1               DX2            36                22.945566            YES   \n",
              "2                DX6           48                27.510027            YES   \n",
              "3               DX1             5                19.130976             NO   \n",
              "4                NaN          128                 1.348400     Cannot say   \n",
              "\n",
              "  Patient_Rural_Urban Patient_mental_condition    A    B    C    D    E    F  \\\n",
              "0               URBAN                   Stable  1.0  0.0  0.0  0.0  1.0  0.0   \n",
              "1               RURAL                   Stable  1.0  0.0  0.0  0.0  0.0  0.0   \n",
              "2               RURAL                   Stable  1.0  0.0  0.0  0.0  0.0  0.0   \n",
              "3               URBAN                   Stable  1.0  0.0  0.0  0.0  0.0  0.0   \n",
              "4               RURAL                   Stable  0.0  0.0  0.0  0.0  0.0  0.0   \n",
              "\n",
              "     Z  Number_of_prev_cond  Survived_1_year  \n",
              "0  0.0                  2.0                0  \n",
              "1  0.0                  1.0                1  \n",
              "2  0.0                  1.0                0  \n",
              "3  0.0                  1.0                1  \n",
              "4  1.0                  1.0                1  "
            ],
            "text/html": [
              "\n",
              "  <div id=\"df-a900a90a-f8b3-4254-8b9b-1d1b9c4c3011\">\n",
              "    <div class=\"colab-df-container\">\n",
              "      <div>\n",
              "<style scoped>\n",
              "    .dataframe tbody tr th:only-of-type {\n",
              "        vertical-align: middle;\n",
              "    }\n",
              "\n",
              "    .dataframe tbody tr th {\n",
              "        vertical-align: top;\n",
              "    }\n",
              "\n",
              "    .dataframe thead th {\n",
              "        text-align: right;\n",
              "    }\n",
              "</style>\n",
              "<table border=\"1\" class=\"dataframe\">\n",
              "  <thead>\n",
              "    <tr style=\"text-align: right;\">\n",
              "      <th></th>\n",
              "      <th>ID_Patient_Care_Situation</th>\n",
              "      <th>Diagnosed_Condition</th>\n",
              "      <th>Patient_ID</th>\n",
              "      <th>Treated_with_drugs</th>\n",
              "      <th>Patient_Age</th>\n",
              "      <th>Patient_Body_Mass_Index</th>\n",
              "      <th>Patient_Smoker</th>\n",
              "      <th>Patient_Rural_Urban</th>\n",
              "      <th>Patient_mental_condition</th>\n",
              "      <th>A</th>\n",
              "      <th>B</th>\n",
              "      <th>C</th>\n",
              "      <th>D</th>\n",
              "      <th>E</th>\n",
              "      <th>F</th>\n",
              "      <th>Z</th>\n",
              "      <th>Number_of_prev_cond</th>\n",
              "      <th>Survived_1_year</th>\n",
              "    </tr>\n",
              "  </thead>\n",
              "  <tbody>\n",
              "    <tr>\n",
              "      <th>0</th>\n",
              "      <td>22374</td>\n",
              "      <td>8</td>\n",
              "      <td>3333</td>\n",
              "      <td>DX6</td>\n",
              "      <td>56</td>\n",
              "      <td>18.479385</td>\n",
              "      <td>YES</td>\n",
              "      <td>URBAN</td>\n",
              "      <td>Stable</td>\n",
              "      <td>1.0</td>\n",
              "      <td>0.0</td>\n",
              "      <td>0.0</td>\n",
              "      <td>0.0</td>\n",
              "      <td>1.0</td>\n",
              "      <td>0.0</td>\n",
              "      <td>0.0</td>\n",
              "      <td>2.0</td>\n",
              "      <td>0</td>\n",
              "    </tr>\n",
              "    <tr>\n",
              "      <th>1</th>\n",
              "      <td>18164</td>\n",
              "      <td>5</td>\n",
              "      <td>5740</td>\n",
              "      <td>DX2</td>\n",
              "      <td>36</td>\n",
              "      <td>22.945566</td>\n",
              "      <td>YES</td>\n",
              "      <td>RURAL</td>\n",
              "      <td>Stable</td>\n",
              "      <td>1.0</td>\n",
              "      <td>0.0</td>\n",
              "      <td>0.0</td>\n",
              "      <td>0.0</td>\n",
              "      <td>0.0</td>\n",
              "      <td>0.0</td>\n",
              "      <td>0.0</td>\n",
              "      <td>1.0</td>\n",
              "      <td>1</td>\n",
              "    </tr>\n",
              "    <tr>\n",
              "      <th>2</th>\n",
              "      <td>6283</td>\n",
              "      <td>23</td>\n",
              "      <td>10446</td>\n",
              "      <td>DX6</td>\n",
              "      <td>48</td>\n",
              "      <td>27.510027</td>\n",
              "      <td>YES</td>\n",
              "      <td>RURAL</td>\n",
              "      <td>Stable</td>\n",
              "      <td>1.0</td>\n",
              "      <td>0.0</td>\n",
              "      <td>0.0</td>\n",
              "      <td>0.0</td>\n",
              "      <td>0.0</td>\n",
              "      <td>0.0</td>\n",
              "      <td>0.0</td>\n",
              "      <td>1.0</td>\n",
              "      <td>0</td>\n",
              "    </tr>\n",
              "    <tr>\n",
              "      <th>3</th>\n",
              "      <td>5339</td>\n",
              "      <td>51</td>\n",
              "      <td>12011</td>\n",
              "      <td>DX1</td>\n",
              "      <td>5</td>\n",
              "      <td>19.130976</td>\n",
              "      <td>NO</td>\n",
              "      <td>URBAN</td>\n",
              "      <td>Stable</td>\n",
              "      <td>1.0</td>\n",
              "      <td>0.0</td>\n",
              "      <td>0.0</td>\n",
              "      <td>0.0</td>\n",
              "      <td>0.0</td>\n",
              "      <td>0.0</td>\n",
              "      <td>0.0</td>\n",
              "      <td>1.0</td>\n",
              "      <td>1</td>\n",
              "    </tr>\n",
              "    <tr>\n",
              "      <th>4</th>\n",
              "      <td>33012</td>\n",
              "      <td>0</td>\n",
              "      <td>12513</td>\n",
              "      <td>NaN</td>\n",
              "      <td>128</td>\n",
              "      <td>1.348400</td>\n",
              "      <td>Cannot say</td>\n",
              "      <td>RURAL</td>\n",
              "      <td>Stable</td>\n",
              "      <td>0.0</td>\n",
              "      <td>0.0</td>\n",
              "      <td>0.0</td>\n",
              "      <td>0.0</td>\n",
              "      <td>0.0</td>\n",
              "      <td>0.0</td>\n",
              "      <td>1.0</td>\n",
              "      <td>1.0</td>\n",
              "      <td>1</td>\n",
              "    </tr>\n",
              "  </tbody>\n",
              "</table>\n",
              "</div>\n",
              "      <button class=\"colab-df-convert\" onclick=\"convertToInteractive('df-a900a90a-f8b3-4254-8b9b-1d1b9c4c3011')\"\n",
              "              title=\"Convert this dataframe to an interactive table.\"\n",
              "              style=\"display:none;\">\n",
              "        \n",
              "  <svg xmlns=\"http://www.w3.org/2000/svg\" height=\"24px\"viewBox=\"0 0 24 24\"\n",
              "       width=\"24px\">\n",
              "    <path d=\"M0 0h24v24H0V0z\" fill=\"none\"/>\n",
              "    <path d=\"M18.56 5.44l.94 2.06.94-2.06 2.06-.94-2.06-.94-.94-2.06-.94 2.06-2.06.94zm-11 1L8.5 8.5l.94-2.06 2.06-.94-2.06-.94L8.5 2.5l-.94 2.06-2.06.94zm10 10l.94 2.06.94-2.06 2.06-.94-2.06-.94-.94-2.06-.94 2.06-2.06.94z\"/><path d=\"M17.41 7.96l-1.37-1.37c-.4-.4-.92-.59-1.43-.59-.52 0-1.04.2-1.43.59L10.3 9.45l-7.72 7.72c-.78.78-.78 2.05 0 2.83L4 21.41c.39.39.9.59 1.41.59.51 0 1.02-.2 1.41-.59l7.78-7.78 2.81-2.81c.8-.78.8-2.07 0-2.86zM5.41 20L4 18.59l7.72-7.72 1.47 1.35L5.41 20z\"/>\n",
              "  </svg>\n",
              "      </button>\n",
              "      \n",
              "  <style>\n",
              "    .colab-df-container {\n",
              "      display:flex;\n",
              "      flex-wrap:wrap;\n",
              "      gap: 12px;\n",
              "    }\n",
              "\n",
              "    .colab-df-convert {\n",
              "      background-color: #E8F0FE;\n",
              "      border: none;\n",
              "      border-radius: 50%;\n",
              "      cursor: pointer;\n",
              "      display: none;\n",
              "      fill: #1967D2;\n",
              "      height: 32px;\n",
              "      padding: 0 0 0 0;\n",
              "      width: 32px;\n",
              "    }\n",
              "\n",
              "    .colab-df-convert:hover {\n",
              "      background-color: #E2EBFA;\n",
              "      box-shadow: 0px 1px 2px rgba(60, 64, 67, 0.3), 0px 1px 3px 1px rgba(60, 64, 67, 0.15);\n",
              "      fill: #174EA6;\n",
              "    }\n",
              "\n",
              "    [theme=dark] .colab-df-convert {\n",
              "      background-color: #3B4455;\n",
              "      fill: #D2E3FC;\n",
              "    }\n",
              "\n",
              "    [theme=dark] .colab-df-convert:hover {\n",
              "      background-color: #434B5C;\n",
              "      box-shadow: 0px 1px 3px 1px rgba(0, 0, 0, 0.15);\n",
              "      filter: drop-shadow(0px 1px 2px rgba(0, 0, 0, 0.3));\n",
              "      fill: #FFFFFF;\n",
              "    }\n",
              "  </style>\n",
              "\n",
              "      <script>\n",
              "        const buttonEl =\n",
              "          document.querySelector('#df-a900a90a-f8b3-4254-8b9b-1d1b9c4c3011 button.colab-df-convert');\n",
              "        buttonEl.style.display =\n",
              "          google.colab.kernel.accessAllowed ? 'block' : 'none';\n",
              "\n",
              "        async function convertToInteractive(key) {\n",
              "          const element = document.querySelector('#df-a900a90a-f8b3-4254-8b9b-1d1b9c4c3011');\n",
              "          const dataTable =\n",
              "            await google.colab.kernel.invokeFunction('convertToInteractive',\n",
              "                                                     [key], {});\n",
              "          if (!dataTable) return;\n",
              "\n",
              "          const docLinkHtml = 'Like what you see? Visit the ' +\n",
              "            '<a target=\"_blank\" href=https://colab.research.google.com/notebooks/data_table.ipynb>data table notebook</a>'\n",
              "            + ' to learn more about interactive tables.';\n",
              "          element.innerHTML = '';\n",
              "          dataTable['output_type'] = 'display_data';\n",
              "          await google.colab.output.renderOutput(dataTable, element);\n",
              "          const docLink = document.createElement('div');\n",
              "          docLink.innerHTML = docLinkHtml;\n",
              "          element.appendChild(docLink);\n",
              "        }\n",
              "      </script>\n",
              "    </div>\n",
              "  </div>\n",
              "  "
            ]
          },
          "metadata": {},
          "execution_count": 3
        }
      ]
    },
    {
      "cell_type": "code",
      "source": [
        "test_data = pd.read_csv('https://raw.githubusercontent.com/dphi-official/Datasets/master/pharma_data/Testing_set_begs.csv')"
      ],
      "metadata": {
        "id": "RxPW14ACRPgJ"
      },
      "execution_count": 4,
      "outputs": []
    },
    {
      "cell_type": "code",
      "source": [
        "test_data.head()"
      ],
      "metadata": {
        "colab": {
          "base_uri": "https://localhost:8080/",
          "height": 270
        },
        "id": "u9HSuR-iTELi",
        "outputId": "d72cf360-1862-4699-a83c-bb3f9b505003"
      },
      "execution_count": 5,
      "outputs": [
        {
          "output_type": "execute_result",
          "data": {
            "text/plain": [
              "   ID_Patient_Care_Situation  Diagnosed_Condition  Patient_ID  \\\n",
              "0                      19150                   40        3709   \n",
              "1                      23216                   52         986   \n",
              "2                      11890                   50       11821   \n",
              "3                       7149                   32        3292   \n",
              "4                      22845                   20        9959   \n",
              "\n",
              "  Treated_with_drugs  Patient_Age  Patient_Body_Mass_Index Patient_Smoker  \\\n",
              "0               DX3            16                29.443894             NO   \n",
              "1                DX6           24                26.836321             NO   \n",
              "2           DX4 DX5            63                25.523280             NO   \n",
              "3                DX6           42                27.171155             NO   \n",
              "4               DX3            50                25.556192             NO   \n",
              "\n",
              "  Patient_Rural_Urban Patient_mental_condition    A    B    C    D    E    F  \\\n",
              "0               RURAL                   Stable  1.0  0.0  0.0  0.0  1.0  0.0   \n",
              "1               URBAN                   Stable  1.0  1.0  0.0  0.0  0.0  0.0   \n",
              "2               RURAL                   Stable  1.0  0.0  0.0  0.0  1.0  0.0   \n",
              "3               URBAN                   Stable  1.0  0.0  1.0  0.0  1.0  0.0   \n",
              "4               RURAL                   Stable  1.0  0.0  0.0  0.0  0.0  0.0   \n",
              "\n",
              "     Z  Number_of_prev_cond  \n",
              "0  0.0                  2.0  \n",
              "1  0.0                  2.0  \n",
              "2  0.0                  2.0  \n",
              "3  0.0                  3.0  \n",
              "4  0.0                  1.0  "
            ],
            "text/html": [
              "\n",
              "  <div id=\"df-652928d8-d211-4bd0-b131-604b2e9aabca\">\n",
              "    <div class=\"colab-df-container\">\n",
              "      <div>\n",
              "<style scoped>\n",
              "    .dataframe tbody tr th:only-of-type {\n",
              "        vertical-align: middle;\n",
              "    }\n",
              "\n",
              "    .dataframe tbody tr th {\n",
              "        vertical-align: top;\n",
              "    }\n",
              "\n",
              "    .dataframe thead th {\n",
              "        text-align: right;\n",
              "    }\n",
              "</style>\n",
              "<table border=\"1\" class=\"dataframe\">\n",
              "  <thead>\n",
              "    <tr style=\"text-align: right;\">\n",
              "      <th></th>\n",
              "      <th>ID_Patient_Care_Situation</th>\n",
              "      <th>Diagnosed_Condition</th>\n",
              "      <th>Patient_ID</th>\n",
              "      <th>Treated_with_drugs</th>\n",
              "      <th>Patient_Age</th>\n",
              "      <th>Patient_Body_Mass_Index</th>\n",
              "      <th>Patient_Smoker</th>\n",
              "      <th>Patient_Rural_Urban</th>\n",
              "      <th>Patient_mental_condition</th>\n",
              "      <th>A</th>\n",
              "      <th>B</th>\n",
              "      <th>C</th>\n",
              "      <th>D</th>\n",
              "      <th>E</th>\n",
              "      <th>F</th>\n",
              "      <th>Z</th>\n",
              "      <th>Number_of_prev_cond</th>\n",
              "    </tr>\n",
              "  </thead>\n",
              "  <tbody>\n",
              "    <tr>\n",
              "      <th>0</th>\n",
              "      <td>19150</td>\n",
              "      <td>40</td>\n",
              "      <td>3709</td>\n",
              "      <td>DX3</td>\n",
              "      <td>16</td>\n",
              "      <td>29.443894</td>\n",
              "      <td>NO</td>\n",
              "      <td>RURAL</td>\n",
              "      <td>Stable</td>\n",
              "      <td>1.0</td>\n",
              "      <td>0.0</td>\n",
              "      <td>0.0</td>\n",
              "      <td>0.0</td>\n",
              "      <td>1.0</td>\n",
              "      <td>0.0</td>\n",
              "      <td>0.0</td>\n",
              "      <td>2.0</td>\n",
              "    </tr>\n",
              "    <tr>\n",
              "      <th>1</th>\n",
              "      <td>23216</td>\n",
              "      <td>52</td>\n",
              "      <td>986</td>\n",
              "      <td>DX6</td>\n",
              "      <td>24</td>\n",
              "      <td>26.836321</td>\n",
              "      <td>NO</td>\n",
              "      <td>URBAN</td>\n",
              "      <td>Stable</td>\n",
              "      <td>1.0</td>\n",
              "      <td>1.0</td>\n",
              "      <td>0.0</td>\n",
              "      <td>0.0</td>\n",
              "      <td>0.0</td>\n",
              "      <td>0.0</td>\n",
              "      <td>0.0</td>\n",
              "      <td>2.0</td>\n",
              "    </tr>\n",
              "    <tr>\n",
              "      <th>2</th>\n",
              "      <td>11890</td>\n",
              "      <td>50</td>\n",
              "      <td>11821</td>\n",
              "      <td>DX4 DX5</td>\n",
              "      <td>63</td>\n",
              "      <td>25.523280</td>\n",
              "      <td>NO</td>\n",
              "      <td>RURAL</td>\n",
              "      <td>Stable</td>\n",
              "      <td>1.0</td>\n",
              "      <td>0.0</td>\n",
              "      <td>0.0</td>\n",
              "      <td>0.0</td>\n",
              "      <td>1.0</td>\n",
              "      <td>0.0</td>\n",
              "      <td>0.0</td>\n",
              "      <td>2.0</td>\n",
              "    </tr>\n",
              "    <tr>\n",
              "      <th>3</th>\n",
              "      <td>7149</td>\n",
              "      <td>32</td>\n",
              "      <td>3292</td>\n",
              "      <td>DX6</td>\n",
              "      <td>42</td>\n",
              "      <td>27.171155</td>\n",
              "      <td>NO</td>\n",
              "      <td>URBAN</td>\n",
              "      <td>Stable</td>\n",
              "      <td>1.0</td>\n",
              "      <td>0.0</td>\n",
              "      <td>1.0</td>\n",
              "      <td>0.0</td>\n",
              "      <td>1.0</td>\n",
              "      <td>0.0</td>\n",
              "      <td>0.0</td>\n",
              "      <td>3.0</td>\n",
              "    </tr>\n",
              "    <tr>\n",
              "      <th>4</th>\n",
              "      <td>22845</td>\n",
              "      <td>20</td>\n",
              "      <td>9959</td>\n",
              "      <td>DX3</td>\n",
              "      <td>50</td>\n",
              "      <td>25.556192</td>\n",
              "      <td>NO</td>\n",
              "      <td>RURAL</td>\n",
              "      <td>Stable</td>\n",
              "      <td>1.0</td>\n",
              "      <td>0.0</td>\n",
              "      <td>0.0</td>\n",
              "      <td>0.0</td>\n",
              "      <td>0.0</td>\n",
              "      <td>0.0</td>\n",
              "      <td>0.0</td>\n",
              "      <td>1.0</td>\n",
              "    </tr>\n",
              "  </tbody>\n",
              "</table>\n",
              "</div>\n",
              "      <button class=\"colab-df-convert\" onclick=\"convertToInteractive('df-652928d8-d211-4bd0-b131-604b2e9aabca')\"\n",
              "              title=\"Convert this dataframe to an interactive table.\"\n",
              "              style=\"display:none;\">\n",
              "        \n",
              "  <svg xmlns=\"http://www.w3.org/2000/svg\" height=\"24px\"viewBox=\"0 0 24 24\"\n",
              "       width=\"24px\">\n",
              "    <path d=\"M0 0h24v24H0V0z\" fill=\"none\"/>\n",
              "    <path d=\"M18.56 5.44l.94 2.06.94-2.06 2.06-.94-2.06-.94-.94-2.06-.94 2.06-2.06.94zm-11 1L8.5 8.5l.94-2.06 2.06-.94-2.06-.94L8.5 2.5l-.94 2.06-2.06.94zm10 10l.94 2.06.94-2.06 2.06-.94-2.06-.94-.94-2.06-.94 2.06-2.06.94z\"/><path d=\"M17.41 7.96l-1.37-1.37c-.4-.4-.92-.59-1.43-.59-.52 0-1.04.2-1.43.59L10.3 9.45l-7.72 7.72c-.78.78-.78 2.05 0 2.83L4 21.41c.39.39.9.59 1.41.59.51 0 1.02-.2 1.41-.59l7.78-7.78 2.81-2.81c.8-.78.8-2.07 0-2.86zM5.41 20L4 18.59l7.72-7.72 1.47 1.35L5.41 20z\"/>\n",
              "  </svg>\n",
              "      </button>\n",
              "      \n",
              "  <style>\n",
              "    .colab-df-container {\n",
              "      display:flex;\n",
              "      flex-wrap:wrap;\n",
              "      gap: 12px;\n",
              "    }\n",
              "\n",
              "    .colab-df-convert {\n",
              "      background-color: #E8F0FE;\n",
              "      border: none;\n",
              "      border-radius: 50%;\n",
              "      cursor: pointer;\n",
              "      display: none;\n",
              "      fill: #1967D2;\n",
              "      height: 32px;\n",
              "      padding: 0 0 0 0;\n",
              "      width: 32px;\n",
              "    }\n",
              "\n",
              "    .colab-df-convert:hover {\n",
              "      background-color: #E2EBFA;\n",
              "      box-shadow: 0px 1px 2px rgba(60, 64, 67, 0.3), 0px 1px 3px 1px rgba(60, 64, 67, 0.15);\n",
              "      fill: #174EA6;\n",
              "    }\n",
              "\n",
              "    [theme=dark] .colab-df-convert {\n",
              "      background-color: #3B4455;\n",
              "      fill: #D2E3FC;\n",
              "    }\n",
              "\n",
              "    [theme=dark] .colab-df-convert:hover {\n",
              "      background-color: #434B5C;\n",
              "      box-shadow: 0px 1px 3px 1px rgba(0, 0, 0, 0.15);\n",
              "      filter: drop-shadow(0px 1px 2px rgba(0, 0, 0, 0.3));\n",
              "      fill: #FFFFFF;\n",
              "    }\n",
              "  </style>\n",
              "\n",
              "      <script>\n",
              "        const buttonEl =\n",
              "          document.querySelector('#df-652928d8-d211-4bd0-b131-604b2e9aabca button.colab-df-convert');\n",
              "        buttonEl.style.display =\n",
              "          google.colab.kernel.accessAllowed ? 'block' : 'none';\n",
              "\n",
              "        async function convertToInteractive(key) {\n",
              "          const element = document.querySelector('#df-652928d8-d211-4bd0-b131-604b2e9aabca');\n",
              "          const dataTable =\n",
              "            await google.colab.kernel.invokeFunction('convertToInteractive',\n",
              "                                                     [key], {});\n",
              "          if (!dataTable) return;\n",
              "\n",
              "          const docLinkHtml = 'Like what you see? Visit the ' +\n",
              "            '<a target=\"_blank\" href=https://colab.research.google.com/notebooks/data_table.ipynb>data table notebook</a>'\n",
              "            + ' to learn more about interactive tables.';\n",
              "          element.innerHTML = '';\n",
              "          dataTable['output_type'] = 'display_data';\n",
              "          await google.colab.output.renderOutput(dataTable, element);\n",
              "          const docLink = document.createElement('div');\n",
              "          docLink.innerHTML = docLinkHtml;\n",
              "          element.appendChild(docLink);\n",
              "        }\n",
              "      </script>\n",
              "    </div>\n",
              "  </div>\n",
              "  "
            ]
          },
          "metadata": {},
          "execution_count": 5
        }
      ]
    },
    {
      "cell_type": "markdown",
      "source": [
        "## Preparation of Data\n",
        "\n",
        "- Eliminating null values\n",
        "- Removing redundant columns\n",
        "- Making sure there are no discrepancies\n",
        "- Seperating columns with multiple values into individual columns\n",
        "- converting all object type columns into integer or float type columns\n"
      ],
      "metadata": {
        "id": "HxuOblWfi3uF"
      }
    },
    {
      "cell_type": "code",
      "source": [
        "pharma_data[\"Treated_with_drugs\"].value_counts()"
      ],
      "metadata": {
        "colab": {
          "base_uri": "https://localhost:8080/"
        },
        "id": "sQAzsPibRrfq",
        "outputId": "80088766-8c22-45bc-a484-ff06941a1685"
      },
      "execution_count": 6,
      "outputs": [
        {
          "output_type": "execute_result",
          "data": {
            "text/plain": [
              "DX6                     8606\n",
              "DX5                     1909\n",
              "DX2                     1904\n",
              "DX1                     1835\n",
              "DX3                     1830\n",
              "DX4                     1792\n",
              "DX3 DX4                  448\n",
              "DX1 DX2                  448\n",
              "DX1 DX3                  424\n",
              "DX4 DX5                  423\n",
              "DX2 DX4                  419\n",
              "DX1 DX4                  408\n",
              "DX3 DX5                  407\n",
              "DX1 DX5                  402\n",
              "DX2 DX5                  400\n",
              "DX2 DX3                  398\n",
              "DX1 DX2 DX5              103\n",
              "DX1 DX3 DX5              101\n",
              "DX1 DX2 DX4               99\n",
              "DX3 DX4 DX5               96\n",
              "DX1 DX2 DX3               95\n",
              "DX2 DX3 DX5               91\n",
              "DX1 DX3 DX4               90\n",
              "DX2 DX3 DX4               87\n",
              "DX2 DX4 DX5               84\n",
              "DX1 DX4 DX5               80\n",
              "DX1 DX2 DX3 DX4           24\n",
              "DX1 DX3 DX4 DX5           24\n",
              "DX2 DX3 DX4 DX5           22\n",
              "DX1 DX2 DX4 DX5           18\n",
              "DX1 DX2 DX3 DX5           14\n",
              "DX1 DX2 DX3 DX4 DX5        3\n",
              "Name: Treated_with_drugs, dtype: int64"
            ]
          },
          "metadata": {},
          "execution_count": 6
        }
      ]
    },
    {
      "cell_type": "code",
      "source": [
        "pharma_data.Treated_with_drugs.isnull().sum()"
      ],
      "metadata": {
        "colab": {
          "base_uri": "https://localhost:8080/"
        },
        "id": "d_AtNnKQL885",
        "outputId": "b3250b1c-2667-44d0-a76e-8f71c5c95b2e"
      },
      "execution_count": 7,
      "outputs": [
        {
          "output_type": "execute_result",
          "data": {
            "text/plain": [
              "13"
            ]
          },
          "metadata": {},
          "execution_count": 7
        }
      ]
    },
    {
      "cell_type": "code",
      "source": [
        "pharma_data['Treated_with_drugs'] = pharma_data['Treated_with_drugs'].str.upper()"
      ],
      "metadata": {
        "id": "DUgP983j5vcb"
      },
      "execution_count": 8,
      "outputs": []
    },
    {
      "cell_type": "code",
      "source": [
        "pharma_data[\"Treated_with_drugs\"] = pharma_data[\"Treated_with_drugs\"].fillna(pharma_data[\"Treated_with_drugs\"].mode()[0])"
      ],
      "metadata": {
        "id": "kJ4X2wZNTqhi"
      },
      "execution_count": 9,
      "outputs": []
    },
    {
      "cell_type": "code",
      "source": [
        "pharma_data.Treated_with_drugs.isnull().sum()"
      ],
      "metadata": {
        "colab": {
          "base_uri": "https://localhost:8080/"
        },
        "id": "xq0sMw5vTu5r",
        "outputId": "b5d6e366-e89d-468c-efc8-04b98bfe6572"
      },
      "execution_count": 10,
      "outputs": [
        {
          "output_type": "execute_result",
          "data": {
            "text/plain": [
              "0"
            ]
          },
          "metadata": {},
          "execution_count": 10
        }
      ]
    },
    {
      "cell_type": "code",
      "source": [
        "pharma_data.Patient_Smoker.value_counts()"
      ],
      "metadata": {
        "colab": {
          "base_uri": "https://localhost:8080/"
        },
        "id": "2pPAcM0pxmZl",
        "outputId": "09a8ed6f-dd5d-401e-e314-f873d5680f9e"
      },
      "execution_count": 11,
      "outputs": [
        {
          "output_type": "execute_result",
          "data": {
            "text/plain": [
              "NO            13246\n",
              "YES            9838\n",
              "Cannot say       13\n",
              "Name: Patient_Smoker, dtype: int64"
            ]
          },
          "metadata": {},
          "execution_count": 11
        }
      ]
    },
    {
      "cell_type": "code",
      "source": [
        "pharma_data.isnull().sum()"
      ],
      "metadata": {
        "colab": {
          "base_uri": "https://localhost:8080/"
        },
        "id": "OeB0_DmQ4PuT",
        "outputId": "6219a7f9-64e8-460c-a043-ac18bbf8c332"
      },
      "execution_count": 12,
      "outputs": [
        {
          "output_type": "execute_result",
          "data": {
            "text/plain": [
              "ID_Patient_Care_Situation       0\n",
              "Diagnosed_Condition             0\n",
              "Patient_ID                      0\n",
              "Treated_with_drugs              0\n",
              "Patient_Age                     0\n",
              "Patient_Body_Mass_Index         0\n",
              "Patient_Smoker                  0\n",
              "Patient_Rural_Urban             0\n",
              "Patient_mental_condition        0\n",
              "A                            1235\n",
              "B                            1235\n",
              "C                            1235\n",
              "D                            1235\n",
              "E                            1235\n",
              "F                            1235\n",
              "Z                            1235\n",
              "Number_of_prev_cond          1235\n",
              "Survived_1_year                 0\n",
              "dtype: int64"
            ]
          },
          "metadata": {},
          "execution_count": 12
        }
      ]
    },
    {
      "cell_type": "code",
      "source": [
        "pharma_data[\"A\"] = pharma_data[\"A\"].fillna(pharma_data[\"A\"].mode()[0])\n",
        "pharma_data[\"B\"] = pharma_data[\"B\"].fillna(pharma_data[\"B\"].mode()[0])\n",
        "pharma_data[\"C\"] = pharma_data[\"C\"].fillna(pharma_data[\"C\"].mode()[0])\n",
        "pharma_data[\"D\"] = pharma_data[\"D\"].fillna(pharma_data[\"D\"].mode()[0])\n",
        "pharma_data[\"E\"] = pharma_data[\"E\"].fillna(pharma_data[\"E\"].mode()[0])\n",
        "pharma_data[\"F\"] = pharma_data[\"F\"].fillna(pharma_data[\"F\"].mode()[0])\n",
        "pharma_data[\"Z\"] = pharma_data[\"Z\"].fillna(pharma_data[\"Z\"].mode()[0])"
      ],
      "metadata": {
        "id": "vc64_Ll88YBN"
      },
      "execution_count": 13,
      "outputs": []
    },
    {
      "cell_type": "code",
      "source": [
        "pharma_data.isnull().sum()"
      ],
      "metadata": {
        "colab": {
          "base_uri": "https://localhost:8080/"
        },
        "id": "gqpHMEGE8phY",
        "outputId": "64ed1836-0f2b-41ae-ea15-b9f03185659d"
      },
      "execution_count": 14,
      "outputs": [
        {
          "output_type": "execute_result",
          "data": {
            "text/plain": [
              "ID_Patient_Care_Situation       0\n",
              "Diagnosed_Condition             0\n",
              "Patient_ID                      0\n",
              "Treated_with_drugs              0\n",
              "Patient_Age                     0\n",
              "Patient_Body_Mass_Index         0\n",
              "Patient_Smoker                  0\n",
              "Patient_Rural_Urban             0\n",
              "Patient_mental_condition        0\n",
              "A                               0\n",
              "B                               0\n",
              "C                               0\n",
              "D                               0\n",
              "E                               0\n",
              "F                               0\n",
              "Z                               0\n",
              "Number_of_prev_cond          1235\n",
              "Survived_1_year                 0\n",
              "dtype: int64"
            ]
          },
          "metadata": {},
          "execution_count": 14
        }
      ]
    },
    {
      "cell_type": "code",
      "source": [
        "pharma_data[\"Number_of_prev_cond\"] = pharma_data[\"Number_of_prev_cond\"].fillna(pharma_data[\"Number_of_prev_cond\"].mode()[0])"
      ],
      "metadata": {
        "id": "FLVUjJvl9lwR"
      },
      "execution_count": 15,
      "outputs": []
    },
    {
      "cell_type": "code",
      "source": [
        "pharma_data.isnull().sum()"
      ],
      "metadata": {
        "colab": {
          "base_uri": "https://localhost:8080/"
        },
        "id": "8cRLchX7Qv-1",
        "outputId": "765a05d2-986a-4223-d6ab-68d14fe0eb10"
      },
      "execution_count": 16,
      "outputs": [
        {
          "output_type": "execute_result",
          "data": {
            "text/plain": [
              "ID_Patient_Care_Situation    0\n",
              "Diagnosed_Condition          0\n",
              "Patient_ID                   0\n",
              "Treated_with_drugs           0\n",
              "Patient_Age                  0\n",
              "Patient_Body_Mass_Index      0\n",
              "Patient_Smoker               0\n",
              "Patient_Rural_Urban          0\n",
              "Patient_mental_condition     0\n",
              "A                            0\n",
              "B                            0\n",
              "C                            0\n",
              "D                            0\n",
              "E                            0\n",
              "F                            0\n",
              "Z                            0\n",
              "Number_of_prev_cond          0\n",
              "Survived_1_year              0\n",
              "dtype: int64"
            ]
          },
          "metadata": {},
          "execution_count": 16
        }
      ]
    },
    {
      "cell_type": "code",
      "source": [
        "pharma_data.Patient_mental_condition.value_counts()"
      ],
      "metadata": {
        "colab": {
          "base_uri": "https://localhost:8080/"
        },
        "id": "9D9VwEBRUmRi",
        "outputId": "5c7dde51-96b3-431e-885f-f0dd32ce7546"
      },
      "execution_count": 17,
      "outputs": [
        {
          "output_type": "execute_result",
          "data": {
            "text/plain": [
              "Stable    23097\n",
              "Name: Patient_mental_condition, dtype: int64"
            ]
          },
          "metadata": {},
          "execution_count": 17
        }
      ]
    },
    {
      "cell_type": "code",
      "source": [
        "pharma_data = pharma_data.drop(\"Patient_mental_condition\", axis = 1)"
      ],
      "metadata": {
        "id": "15FVx9CHUuQJ"
      },
      "execution_count": 18,
      "outputs": []
    },
    {
      "cell_type": "code",
      "source": [
        "pharma_data.Patient_Smoker[pharma_data['Patient_Smoker'] == \"Cannot say\"] = 'NO'"
      ],
      "metadata": {
        "colab": {
          "base_uri": "https://localhost:8080/"
        },
        "id": "BYshn5sMV6vm",
        "outputId": "daa425e3-30b6-4965-b901-d094b41c1bdd"
      },
      "execution_count": 19,
      "outputs": [
        {
          "output_type": "stream",
          "name": "stderr",
          "text": [
            "<ipython-input-19-215a4b50320b>:1: SettingWithCopyWarning: \n",
            "A value is trying to be set on a copy of a slice from a DataFrame\n",
            "\n",
            "See the caveats in the documentation: https://pandas.pydata.org/pandas-docs/stable/user_guide/indexing.html#returning-a-view-versus-a-copy\n",
            "  pharma_data.Patient_Smoker[pharma_data['Patient_Smoker'] == \"Cannot say\"] = 'NO'\n"
          ]
        }
      ]
    },
    {
      "cell_type": "code",
      "source": [
        "pharma_data.Patient_Smoker.value_counts()"
      ],
      "metadata": {
        "colab": {
          "base_uri": "https://localhost:8080/"
        },
        "id": "WDNWy0soXpKm",
        "outputId": "9ca35a2c-ef28-44a3-a3cf-4da0ca49a2fe"
      },
      "execution_count": 20,
      "outputs": [
        {
          "output_type": "execute_result",
          "data": {
            "text/plain": [
              "NO     13259\n",
              "YES     9838\n",
              "Name: Patient_Smoker, dtype: int64"
            ]
          },
          "metadata": {},
          "execution_count": 20
        }
      ]
    },
    {
      "cell_type": "code",
      "source": [
        "list_drugs = pharma_data[\"Treated_with_drugs\"].str.get_dummies(sep = ' ')\n",
        "pharma_data = pd.concat([pharma_data, list_drugs], axis = 1)\n",
        "pharma_data = pharma_data.drop(\"Treated_with_drugs\", axis = 1)\n"
      ],
      "metadata": {
        "id": "zQPHVx1bZRtj"
      },
      "execution_count": 21,
      "outputs": []
    },
    {
      "cell_type": "code",
      "source": [
        "pharma_data.value_counts()"
      ],
      "metadata": {
        "colab": {
          "base_uri": "https://localhost:8080/"
        },
        "id": "3HPBF1enb7Aj",
        "outputId": "2c556db4-60d3-4e20-dc27-17b2be76bc20"
      },
      "execution_count": 22,
      "outputs": [
        {
          "output_type": "execute_result",
          "data": {
            "text/plain": [
              "ID_Patient_Care_Situation  Diagnosed_Condition  Patient_ID  Patient_Age  Patient_Body_Mass_Index  Patient_Smoker  Patient_Rural_Urban  A    B    C    D    E    F    Z    Number_of_prev_cond  Survived_1_year  DX1  DX2  DX3  DX4  DX5  DX6\n",
              "2                          32                   12157       32           18.622978                YES             RURAL                0.0  0.0  1.0  0.0  1.0  0.0  0.0  2.0                  0                0    1    1    0    0    0      1\n",
              "22116                      32                   12425       27           19.059354                NO              RURAL                1.0  0.0  0.0  0.0  0.0  0.0  0.0  1.0                  1                0    0    1    0    0    0      1\n",
              "22114                      18                   7801        48           20.664038                YES             RURAL                1.0  1.0  0.0  0.0  0.0  0.0  0.0  2.0                  1                0    0    0    0    0    1      1\n",
              "22112                      52                   9786        42           24.582714                YES             RURAL                1.0  0.0  0.0  0.0  0.0  0.0  0.0  1.0                  1                1    0    0    0    0    0      1\n",
              "22111                      51                   3410        0            18.418056                NO              RURAL                1.0  1.0  0.0  0.0  0.0  1.0  0.0  3.0                  0                1    1    0    0    0    0      1\n",
              "                                                                                                                                                                                                                                               ..\n",
              "11053                      15                   9812        10           27.927694                NO              RURAL                0.0  0.0  0.0  0.0  1.0  0.0  0.0  1.0                  1                0    0    0    0    0    1      1\n",
              "11052                      21                   9626        31           29.889479                NO              RURAL                1.0  0.0  0.0  0.0  1.0  0.0  0.0  2.0                  1                0    0    0    1    0    0      1\n",
              "11051                      46                   10805       37           21.453059                YES             RURAL                1.0  0.0  0.0  1.0  1.0  0.0  0.0  3.0                  0                0    0    0    0    0    1      1\n",
              "11050                      23                   1528        59           26.608780                NO              RURAL                1.0  0.0  0.0  0.0  0.0  0.0  0.0  1.0                  1                0    0    0    0    0    1      1\n",
              "33014                      0                    12515       149          1.778400                 NO              RURAL                0.0  0.0  0.0  0.0  0.0  0.0  1.0  1.0                  1                0    0    0    0    0    1      1\n",
              "Length: 23097, dtype: int64"
            ]
          },
          "metadata": {},
          "execution_count": 22
        }
      ]
    },
    {
      "cell_type": "code",
      "source": [
        "pharma_data = pd.get_dummies(pharma_data, columns=['Patient_Smoker', 'Patient_Rural_Urban'])\n"
      ],
      "metadata": {
        "id": "lqpcCJ-lqBuv"
      },
      "execution_count": 23,
      "outputs": []
    },
    {
      "cell_type": "code",
      "source": [
        "pharma_data.head()"
      ],
      "metadata": {
        "colab": {
          "base_uri": "https://localhost:8080/",
          "height": 299
        },
        "id": "9IqAGgQKqFBz",
        "outputId": "9e1445e1-c58a-4e03-a0be-75e7cd1a600c"
      },
      "execution_count": 24,
      "outputs": [
        {
          "output_type": "execute_result",
          "data": {
            "text/plain": [
              "   ID_Patient_Care_Situation  Diagnosed_Condition  Patient_ID  Patient_Age  \\\n",
              "0                      22374                    8        3333           56   \n",
              "1                      18164                    5        5740           36   \n",
              "2                       6283                   23       10446           48   \n",
              "3                       5339                   51       12011            5   \n",
              "4                      33012                    0       12513          128   \n",
              "\n",
              "   Patient_Body_Mass_Index    A    B    C    D    E  ...  DX1  DX2  DX3  DX4  \\\n",
              "0                18.479385  1.0  0.0  0.0  0.0  1.0  ...    0    0    0    0   \n",
              "1                22.945566  1.0  0.0  0.0  0.0  0.0  ...    0    1    0    0   \n",
              "2                27.510027  1.0  0.0  0.0  0.0  0.0  ...    0    0    0    0   \n",
              "3                19.130976  1.0  0.0  0.0  0.0  0.0  ...    1    0    0    0   \n",
              "4                 1.348400  0.0  0.0  0.0  0.0  0.0  ...    0    0    0    0   \n",
              "\n",
              "   DX5  DX6  Patient_Smoker_NO  Patient_Smoker_YES  Patient_Rural_Urban_RURAL  \\\n",
              "0    0    1                  0                   1                          0   \n",
              "1    0    0                  0                   1                          1   \n",
              "2    0    1                  0                   1                          1   \n",
              "3    0    0                  1                   0                          0   \n",
              "4    0    1                  1                   0                          1   \n",
              "\n",
              "   Patient_Rural_Urban_URBAN  \n",
              "0                          1  \n",
              "1                          0  \n",
              "2                          0  \n",
              "3                          1  \n",
              "4                          0  \n",
              "\n",
              "[5 rows x 24 columns]"
            ],
            "text/html": [
              "\n",
              "  <div id=\"df-3035bdb3-1f18-4a38-9c93-438206c552f0\">\n",
              "    <div class=\"colab-df-container\">\n",
              "      <div>\n",
              "<style scoped>\n",
              "    .dataframe tbody tr th:only-of-type {\n",
              "        vertical-align: middle;\n",
              "    }\n",
              "\n",
              "    .dataframe tbody tr th {\n",
              "        vertical-align: top;\n",
              "    }\n",
              "\n",
              "    .dataframe thead th {\n",
              "        text-align: right;\n",
              "    }\n",
              "</style>\n",
              "<table border=\"1\" class=\"dataframe\">\n",
              "  <thead>\n",
              "    <tr style=\"text-align: right;\">\n",
              "      <th></th>\n",
              "      <th>ID_Patient_Care_Situation</th>\n",
              "      <th>Diagnosed_Condition</th>\n",
              "      <th>Patient_ID</th>\n",
              "      <th>Patient_Age</th>\n",
              "      <th>Patient_Body_Mass_Index</th>\n",
              "      <th>A</th>\n",
              "      <th>B</th>\n",
              "      <th>C</th>\n",
              "      <th>D</th>\n",
              "      <th>E</th>\n",
              "      <th>...</th>\n",
              "      <th>DX1</th>\n",
              "      <th>DX2</th>\n",
              "      <th>DX3</th>\n",
              "      <th>DX4</th>\n",
              "      <th>DX5</th>\n",
              "      <th>DX6</th>\n",
              "      <th>Patient_Smoker_NO</th>\n",
              "      <th>Patient_Smoker_YES</th>\n",
              "      <th>Patient_Rural_Urban_RURAL</th>\n",
              "      <th>Patient_Rural_Urban_URBAN</th>\n",
              "    </tr>\n",
              "  </thead>\n",
              "  <tbody>\n",
              "    <tr>\n",
              "      <th>0</th>\n",
              "      <td>22374</td>\n",
              "      <td>8</td>\n",
              "      <td>3333</td>\n",
              "      <td>56</td>\n",
              "      <td>18.479385</td>\n",
              "      <td>1.0</td>\n",
              "      <td>0.0</td>\n",
              "      <td>0.0</td>\n",
              "      <td>0.0</td>\n",
              "      <td>1.0</td>\n",
              "      <td>...</td>\n",
              "      <td>0</td>\n",
              "      <td>0</td>\n",
              "      <td>0</td>\n",
              "      <td>0</td>\n",
              "      <td>0</td>\n",
              "      <td>1</td>\n",
              "      <td>0</td>\n",
              "      <td>1</td>\n",
              "      <td>0</td>\n",
              "      <td>1</td>\n",
              "    </tr>\n",
              "    <tr>\n",
              "      <th>1</th>\n",
              "      <td>18164</td>\n",
              "      <td>5</td>\n",
              "      <td>5740</td>\n",
              "      <td>36</td>\n",
              "      <td>22.945566</td>\n",
              "      <td>1.0</td>\n",
              "      <td>0.0</td>\n",
              "      <td>0.0</td>\n",
              "      <td>0.0</td>\n",
              "      <td>0.0</td>\n",
              "      <td>...</td>\n",
              "      <td>0</td>\n",
              "      <td>1</td>\n",
              "      <td>0</td>\n",
              "      <td>0</td>\n",
              "      <td>0</td>\n",
              "      <td>0</td>\n",
              "      <td>0</td>\n",
              "      <td>1</td>\n",
              "      <td>1</td>\n",
              "      <td>0</td>\n",
              "    </tr>\n",
              "    <tr>\n",
              "      <th>2</th>\n",
              "      <td>6283</td>\n",
              "      <td>23</td>\n",
              "      <td>10446</td>\n",
              "      <td>48</td>\n",
              "      <td>27.510027</td>\n",
              "      <td>1.0</td>\n",
              "      <td>0.0</td>\n",
              "      <td>0.0</td>\n",
              "      <td>0.0</td>\n",
              "      <td>0.0</td>\n",
              "      <td>...</td>\n",
              "      <td>0</td>\n",
              "      <td>0</td>\n",
              "      <td>0</td>\n",
              "      <td>0</td>\n",
              "      <td>0</td>\n",
              "      <td>1</td>\n",
              "      <td>0</td>\n",
              "      <td>1</td>\n",
              "      <td>1</td>\n",
              "      <td>0</td>\n",
              "    </tr>\n",
              "    <tr>\n",
              "      <th>3</th>\n",
              "      <td>5339</td>\n",
              "      <td>51</td>\n",
              "      <td>12011</td>\n",
              "      <td>5</td>\n",
              "      <td>19.130976</td>\n",
              "      <td>1.0</td>\n",
              "      <td>0.0</td>\n",
              "      <td>0.0</td>\n",
              "      <td>0.0</td>\n",
              "      <td>0.0</td>\n",
              "      <td>...</td>\n",
              "      <td>1</td>\n",
              "      <td>0</td>\n",
              "      <td>0</td>\n",
              "      <td>0</td>\n",
              "      <td>0</td>\n",
              "      <td>0</td>\n",
              "      <td>1</td>\n",
              "      <td>0</td>\n",
              "      <td>0</td>\n",
              "      <td>1</td>\n",
              "    </tr>\n",
              "    <tr>\n",
              "      <th>4</th>\n",
              "      <td>33012</td>\n",
              "      <td>0</td>\n",
              "      <td>12513</td>\n",
              "      <td>128</td>\n",
              "      <td>1.348400</td>\n",
              "      <td>0.0</td>\n",
              "      <td>0.0</td>\n",
              "      <td>0.0</td>\n",
              "      <td>0.0</td>\n",
              "      <td>0.0</td>\n",
              "      <td>...</td>\n",
              "      <td>0</td>\n",
              "      <td>0</td>\n",
              "      <td>0</td>\n",
              "      <td>0</td>\n",
              "      <td>0</td>\n",
              "      <td>1</td>\n",
              "      <td>1</td>\n",
              "      <td>0</td>\n",
              "      <td>1</td>\n",
              "      <td>0</td>\n",
              "    </tr>\n",
              "  </tbody>\n",
              "</table>\n",
              "<p>5 rows × 24 columns</p>\n",
              "</div>\n",
              "      <button class=\"colab-df-convert\" onclick=\"convertToInteractive('df-3035bdb3-1f18-4a38-9c93-438206c552f0')\"\n",
              "              title=\"Convert this dataframe to an interactive table.\"\n",
              "              style=\"display:none;\">\n",
              "        \n",
              "  <svg xmlns=\"http://www.w3.org/2000/svg\" height=\"24px\"viewBox=\"0 0 24 24\"\n",
              "       width=\"24px\">\n",
              "    <path d=\"M0 0h24v24H0V0z\" fill=\"none\"/>\n",
              "    <path d=\"M18.56 5.44l.94 2.06.94-2.06 2.06-.94-2.06-.94-.94-2.06-.94 2.06-2.06.94zm-11 1L8.5 8.5l.94-2.06 2.06-.94-2.06-.94L8.5 2.5l-.94 2.06-2.06.94zm10 10l.94 2.06.94-2.06 2.06-.94-2.06-.94-.94-2.06-.94 2.06-2.06.94z\"/><path d=\"M17.41 7.96l-1.37-1.37c-.4-.4-.92-.59-1.43-.59-.52 0-1.04.2-1.43.59L10.3 9.45l-7.72 7.72c-.78.78-.78 2.05 0 2.83L4 21.41c.39.39.9.59 1.41.59.51 0 1.02-.2 1.41-.59l7.78-7.78 2.81-2.81c.8-.78.8-2.07 0-2.86zM5.41 20L4 18.59l7.72-7.72 1.47 1.35L5.41 20z\"/>\n",
              "  </svg>\n",
              "      </button>\n",
              "      \n",
              "  <style>\n",
              "    .colab-df-container {\n",
              "      display:flex;\n",
              "      flex-wrap:wrap;\n",
              "      gap: 12px;\n",
              "    }\n",
              "\n",
              "    .colab-df-convert {\n",
              "      background-color: #E8F0FE;\n",
              "      border: none;\n",
              "      border-radius: 50%;\n",
              "      cursor: pointer;\n",
              "      display: none;\n",
              "      fill: #1967D2;\n",
              "      height: 32px;\n",
              "      padding: 0 0 0 0;\n",
              "      width: 32px;\n",
              "    }\n",
              "\n",
              "    .colab-df-convert:hover {\n",
              "      background-color: #E2EBFA;\n",
              "      box-shadow: 0px 1px 2px rgba(60, 64, 67, 0.3), 0px 1px 3px 1px rgba(60, 64, 67, 0.15);\n",
              "      fill: #174EA6;\n",
              "    }\n",
              "\n",
              "    [theme=dark] .colab-df-convert {\n",
              "      background-color: #3B4455;\n",
              "      fill: #D2E3FC;\n",
              "    }\n",
              "\n",
              "    [theme=dark] .colab-df-convert:hover {\n",
              "      background-color: #434B5C;\n",
              "      box-shadow: 0px 1px 3px 1px rgba(0, 0, 0, 0.15);\n",
              "      filter: drop-shadow(0px 1px 2px rgba(0, 0, 0, 0.3));\n",
              "      fill: #FFFFFF;\n",
              "    }\n",
              "  </style>\n",
              "\n",
              "      <script>\n",
              "        const buttonEl =\n",
              "          document.querySelector('#df-3035bdb3-1f18-4a38-9c93-438206c552f0 button.colab-df-convert');\n",
              "        buttonEl.style.display =\n",
              "          google.colab.kernel.accessAllowed ? 'block' : 'none';\n",
              "\n",
              "        async function convertToInteractive(key) {\n",
              "          const element = document.querySelector('#df-3035bdb3-1f18-4a38-9c93-438206c552f0');\n",
              "          const dataTable =\n",
              "            await google.colab.kernel.invokeFunction('convertToInteractive',\n",
              "                                                     [key], {});\n",
              "          if (!dataTable) return;\n",
              "\n",
              "          const docLinkHtml = 'Like what you see? Visit the ' +\n",
              "            '<a target=\"_blank\" href=https://colab.research.google.com/notebooks/data_table.ipynb>data table notebook</a>'\n",
              "            + ' to learn more about interactive tables.';\n",
              "          element.innerHTML = '';\n",
              "          dataTable['output_type'] = 'display_data';\n",
              "          await google.colab.output.renderOutput(dataTable, element);\n",
              "          const docLink = document.createElement('div');\n",
              "          docLink.innerHTML = docLinkHtml;\n",
              "          element.appendChild(docLink);\n",
              "        }\n",
              "      </script>\n",
              "    </div>\n",
              "  </div>\n",
              "  "
            ]
          },
          "metadata": {},
          "execution_count": 24
        }
      ]
    },
    {
      "cell_type": "markdown",
      "source": [
        "## Splitting data"
      ],
      "metadata": {
        "id": "Ttn9Yrw75tGU"
      }
    },
    {
      "cell_type": "code",
      "source": [
        "y = pharma_data[\"Survived_1_year\"]\n",
        "X = pharma_data.drop(\"Survived_1_year\", axis = 1)"
      ],
      "metadata": {
        "id": "m9_IeD_OVFBD"
      },
      "execution_count": 25,
      "outputs": []
    },
    {
      "cell_type": "code",
      "source": [
        "X_train, X_test, y_train, y_test = train_test_split(X, y, test_size=0.3, random_state=1)"
      ],
      "metadata": {
        "id": "f5s5A-P2Vrci"
      },
      "execution_count": 26,
      "outputs": []
    },
    {
      "cell_type": "markdown",
      "source": [
        "## Training Model"
      ],
      "metadata": {
        "id": "0Wc_BDjlCWSp"
      }
    },
    {
      "cell_type": "code",
      "source": [
        "dt_clf = DecisionTreeClassifier()"
      ],
      "metadata": {
        "id": "s7L9Ooe4YsZe"
      },
      "execution_count": 27,
      "outputs": []
    },
    {
      "cell_type": "code",
      "source": [
        "dt_clf.fit(X_train, y_train)"
      ],
      "metadata": {
        "colab": {
          "base_uri": "https://localhost:8080/"
        },
        "id": "J84Qa_e5atdN",
        "outputId": "d559c231-a25f-4a84-f071-07a2c395c42e"
      },
      "execution_count": 28,
      "outputs": [
        {
          "output_type": "execute_result",
          "data": {
            "text/plain": [
              "DecisionTreeClassifier()"
            ]
          },
          "metadata": {},
          "execution_count": 28
        }
      ]
    },
    {
      "cell_type": "code",
      "source": [
        "y_pred = dt_clf.predict(X_test)"
      ],
      "metadata": {
        "id": "d8BCm6BTa3kK"
      },
      "execution_count": 29,
      "outputs": []
    },
    {
      "cell_type": "markdown",
      "source": [
        "## Checking accuracy"
      ],
      "metadata": {
        "id": "Bnslz9vUCYo4"
      }
    },
    {
      "cell_type": "code",
      "source": [
        "from sklearn.metrics import accuracy_score, classification_report, confusion_matrix"
      ],
      "metadata": {
        "id": "JcoDX782qOqv"
      },
      "execution_count": 30,
      "outputs": []
    },
    {
      "cell_type": "code",
      "source": [
        "accuracy = accuracy_score(y_test, y_pred)\n",
        "print(\"Accuracy: \", accuracy)"
      ],
      "metadata": {
        "colab": {
          "base_uri": "https://localhost:8080/"
        },
        "id": "pyjCJDB5opGH",
        "outputId": "90b55f43-64bf-4e64-d725-7dbabcc82627"
      },
      "execution_count": 31,
      "outputs": [
        {
          "output_type": "stream",
          "name": "stdout",
          "text": [
            "Accuracy:  0.7688311688311689\n"
          ]
        }
      ]
    },
    {
      "cell_type": "code",
      "source": [
        "print(classification_report(y_test, y_pred))"
      ],
      "metadata": {
        "colab": {
          "base_uri": "https://localhost:8080/"
        },
        "id": "RN7RRGutorA-",
        "outputId": "c31778c1-e73a-45f4-e3fc-cc996bc6076e"
      },
      "execution_count": 32,
      "outputs": [
        {
          "output_type": "stream",
          "name": "stdout",
          "text": [
            "              precision    recall  f1-score   support\n",
            "\n",
            "           0       0.68      0.70      0.69      2539\n",
            "           1       0.82      0.81      0.82      4391\n",
            "\n",
            "    accuracy                           0.77      6930\n",
            "   macro avg       0.75      0.75      0.75      6930\n",
            "weighted avg       0.77      0.77      0.77      6930\n",
            "\n"
          ]
        }
      ]
    },
    {
      "cell_type": "code",
      "source": [
        "print(confusion_matrix(y_test, y_pred))"
      ],
      "metadata": {
        "colab": {
          "base_uri": "https://localhost:8080/"
        },
        "id": "GKhGUgYhot_9",
        "outputId": "99814128-7274-4860-d840-9fecab6baa59"
      },
      "execution_count": 33,
      "outputs": [
        {
          "output_type": "stream",
          "name": "stdout",
          "text": [
            "[[1771  768]\n",
            " [ 834 3557]]\n"
          ]
        }
      ]
    },
    {
      "cell_type": "markdown",
      "source": [
        "## Cleaning test data"
      ],
      "metadata": {
        "id": "j6sVWfZKtbg6"
      }
    },
    {
      "cell_type": "code",
      "source": [
        "test_data.head()"
      ],
      "metadata": {
        "colab": {
          "base_uri": "https://localhost:8080/",
          "height": 270
        },
        "id": "UavPBTHjtaGS",
        "outputId": "a3001dc9-8a92-48ab-a081-7b7f62237750"
      },
      "execution_count": 34,
      "outputs": [
        {
          "output_type": "execute_result",
          "data": {
            "text/plain": [
              "   ID_Patient_Care_Situation  Diagnosed_Condition  Patient_ID  \\\n",
              "0                      19150                   40        3709   \n",
              "1                      23216                   52         986   \n",
              "2                      11890                   50       11821   \n",
              "3                       7149                   32        3292   \n",
              "4                      22845                   20        9959   \n",
              "\n",
              "  Treated_with_drugs  Patient_Age  Patient_Body_Mass_Index Patient_Smoker  \\\n",
              "0               DX3            16                29.443894             NO   \n",
              "1                DX6           24                26.836321             NO   \n",
              "2           DX4 DX5            63                25.523280             NO   \n",
              "3                DX6           42                27.171155             NO   \n",
              "4               DX3            50                25.556192             NO   \n",
              "\n",
              "  Patient_Rural_Urban Patient_mental_condition    A    B    C    D    E    F  \\\n",
              "0               RURAL                   Stable  1.0  0.0  0.0  0.0  1.0  0.0   \n",
              "1               URBAN                   Stable  1.0  1.0  0.0  0.0  0.0  0.0   \n",
              "2               RURAL                   Stable  1.0  0.0  0.0  0.0  1.0  0.0   \n",
              "3               URBAN                   Stable  1.0  0.0  1.0  0.0  1.0  0.0   \n",
              "4               RURAL                   Stable  1.0  0.0  0.0  0.0  0.0  0.0   \n",
              "\n",
              "     Z  Number_of_prev_cond  \n",
              "0  0.0                  2.0  \n",
              "1  0.0                  2.0  \n",
              "2  0.0                  2.0  \n",
              "3  0.0                  3.0  \n",
              "4  0.0                  1.0  "
            ],
            "text/html": [
              "\n",
              "  <div id=\"df-22b0f05d-522b-49ad-ba7e-943274df4735\">\n",
              "    <div class=\"colab-df-container\">\n",
              "      <div>\n",
              "<style scoped>\n",
              "    .dataframe tbody tr th:only-of-type {\n",
              "        vertical-align: middle;\n",
              "    }\n",
              "\n",
              "    .dataframe tbody tr th {\n",
              "        vertical-align: top;\n",
              "    }\n",
              "\n",
              "    .dataframe thead th {\n",
              "        text-align: right;\n",
              "    }\n",
              "</style>\n",
              "<table border=\"1\" class=\"dataframe\">\n",
              "  <thead>\n",
              "    <tr style=\"text-align: right;\">\n",
              "      <th></th>\n",
              "      <th>ID_Patient_Care_Situation</th>\n",
              "      <th>Diagnosed_Condition</th>\n",
              "      <th>Patient_ID</th>\n",
              "      <th>Treated_with_drugs</th>\n",
              "      <th>Patient_Age</th>\n",
              "      <th>Patient_Body_Mass_Index</th>\n",
              "      <th>Patient_Smoker</th>\n",
              "      <th>Patient_Rural_Urban</th>\n",
              "      <th>Patient_mental_condition</th>\n",
              "      <th>A</th>\n",
              "      <th>B</th>\n",
              "      <th>C</th>\n",
              "      <th>D</th>\n",
              "      <th>E</th>\n",
              "      <th>F</th>\n",
              "      <th>Z</th>\n",
              "      <th>Number_of_prev_cond</th>\n",
              "    </tr>\n",
              "  </thead>\n",
              "  <tbody>\n",
              "    <tr>\n",
              "      <th>0</th>\n",
              "      <td>19150</td>\n",
              "      <td>40</td>\n",
              "      <td>3709</td>\n",
              "      <td>DX3</td>\n",
              "      <td>16</td>\n",
              "      <td>29.443894</td>\n",
              "      <td>NO</td>\n",
              "      <td>RURAL</td>\n",
              "      <td>Stable</td>\n",
              "      <td>1.0</td>\n",
              "      <td>0.0</td>\n",
              "      <td>0.0</td>\n",
              "      <td>0.0</td>\n",
              "      <td>1.0</td>\n",
              "      <td>0.0</td>\n",
              "      <td>0.0</td>\n",
              "      <td>2.0</td>\n",
              "    </tr>\n",
              "    <tr>\n",
              "      <th>1</th>\n",
              "      <td>23216</td>\n",
              "      <td>52</td>\n",
              "      <td>986</td>\n",
              "      <td>DX6</td>\n",
              "      <td>24</td>\n",
              "      <td>26.836321</td>\n",
              "      <td>NO</td>\n",
              "      <td>URBAN</td>\n",
              "      <td>Stable</td>\n",
              "      <td>1.0</td>\n",
              "      <td>1.0</td>\n",
              "      <td>0.0</td>\n",
              "      <td>0.0</td>\n",
              "      <td>0.0</td>\n",
              "      <td>0.0</td>\n",
              "      <td>0.0</td>\n",
              "      <td>2.0</td>\n",
              "    </tr>\n",
              "    <tr>\n",
              "      <th>2</th>\n",
              "      <td>11890</td>\n",
              "      <td>50</td>\n",
              "      <td>11821</td>\n",
              "      <td>DX4 DX5</td>\n",
              "      <td>63</td>\n",
              "      <td>25.523280</td>\n",
              "      <td>NO</td>\n",
              "      <td>RURAL</td>\n",
              "      <td>Stable</td>\n",
              "      <td>1.0</td>\n",
              "      <td>0.0</td>\n",
              "      <td>0.0</td>\n",
              "      <td>0.0</td>\n",
              "      <td>1.0</td>\n",
              "      <td>0.0</td>\n",
              "      <td>0.0</td>\n",
              "      <td>2.0</td>\n",
              "    </tr>\n",
              "    <tr>\n",
              "      <th>3</th>\n",
              "      <td>7149</td>\n",
              "      <td>32</td>\n",
              "      <td>3292</td>\n",
              "      <td>DX6</td>\n",
              "      <td>42</td>\n",
              "      <td>27.171155</td>\n",
              "      <td>NO</td>\n",
              "      <td>URBAN</td>\n",
              "      <td>Stable</td>\n",
              "      <td>1.0</td>\n",
              "      <td>0.0</td>\n",
              "      <td>1.0</td>\n",
              "      <td>0.0</td>\n",
              "      <td>1.0</td>\n",
              "      <td>0.0</td>\n",
              "      <td>0.0</td>\n",
              "      <td>3.0</td>\n",
              "    </tr>\n",
              "    <tr>\n",
              "      <th>4</th>\n",
              "      <td>22845</td>\n",
              "      <td>20</td>\n",
              "      <td>9959</td>\n",
              "      <td>DX3</td>\n",
              "      <td>50</td>\n",
              "      <td>25.556192</td>\n",
              "      <td>NO</td>\n",
              "      <td>RURAL</td>\n",
              "      <td>Stable</td>\n",
              "      <td>1.0</td>\n",
              "      <td>0.0</td>\n",
              "      <td>0.0</td>\n",
              "      <td>0.0</td>\n",
              "      <td>0.0</td>\n",
              "      <td>0.0</td>\n",
              "      <td>0.0</td>\n",
              "      <td>1.0</td>\n",
              "    </tr>\n",
              "  </tbody>\n",
              "</table>\n",
              "</div>\n",
              "      <button class=\"colab-df-convert\" onclick=\"convertToInteractive('df-22b0f05d-522b-49ad-ba7e-943274df4735')\"\n",
              "              title=\"Convert this dataframe to an interactive table.\"\n",
              "              style=\"display:none;\">\n",
              "        \n",
              "  <svg xmlns=\"http://www.w3.org/2000/svg\" height=\"24px\"viewBox=\"0 0 24 24\"\n",
              "       width=\"24px\">\n",
              "    <path d=\"M0 0h24v24H0V0z\" fill=\"none\"/>\n",
              "    <path d=\"M18.56 5.44l.94 2.06.94-2.06 2.06-.94-2.06-.94-.94-2.06-.94 2.06-2.06.94zm-11 1L8.5 8.5l.94-2.06 2.06-.94-2.06-.94L8.5 2.5l-.94 2.06-2.06.94zm10 10l.94 2.06.94-2.06 2.06-.94-2.06-.94-.94-2.06-.94 2.06-2.06.94z\"/><path d=\"M17.41 7.96l-1.37-1.37c-.4-.4-.92-.59-1.43-.59-.52 0-1.04.2-1.43.59L10.3 9.45l-7.72 7.72c-.78.78-.78 2.05 0 2.83L4 21.41c.39.39.9.59 1.41.59.51 0 1.02-.2 1.41-.59l7.78-7.78 2.81-2.81c.8-.78.8-2.07 0-2.86zM5.41 20L4 18.59l7.72-7.72 1.47 1.35L5.41 20z\"/>\n",
              "  </svg>\n",
              "      </button>\n",
              "      \n",
              "  <style>\n",
              "    .colab-df-container {\n",
              "      display:flex;\n",
              "      flex-wrap:wrap;\n",
              "      gap: 12px;\n",
              "    }\n",
              "\n",
              "    .colab-df-convert {\n",
              "      background-color: #E8F0FE;\n",
              "      border: none;\n",
              "      border-radius: 50%;\n",
              "      cursor: pointer;\n",
              "      display: none;\n",
              "      fill: #1967D2;\n",
              "      height: 32px;\n",
              "      padding: 0 0 0 0;\n",
              "      width: 32px;\n",
              "    }\n",
              "\n",
              "    .colab-df-convert:hover {\n",
              "      background-color: #E2EBFA;\n",
              "      box-shadow: 0px 1px 2px rgba(60, 64, 67, 0.3), 0px 1px 3px 1px rgba(60, 64, 67, 0.15);\n",
              "      fill: #174EA6;\n",
              "    }\n",
              "\n",
              "    [theme=dark] .colab-df-convert {\n",
              "      background-color: #3B4455;\n",
              "      fill: #D2E3FC;\n",
              "    }\n",
              "\n",
              "    [theme=dark] .colab-df-convert:hover {\n",
              "      background-color: #434B5C;\n",
              "      box-shadow: 0px 1px 3px 1px rgba(0, 0, 0, 0.15);\n",
              "      filter: drop-shadow(0px 1px 2px rgba(0, 0, 0, 0.3));\n",
              "      fill: #FFFFFF;\n",
              "    }\n",
              "  </style>\n",
              "\n",
              "      <script>\n",
              "        const buttonEl =\n",
              "          document.querySelector('#df-22b0f05d-522b-49ad-ba7e-943274df4735 button.colab-df-convert');\n",
              "        buttonEl.style.display =\n",
              "          google.colab.kernel.accessAllowed ? 'block' : 'none';\n",
              "\n",
              "        async function convertToInteractive(key) {\n",
              "          const element = document.querySelector('#df-22b0f05d-522b-49ad-ba7e-943274df4735');\n",
              "          const dataTable =\n",
              "            await google.colab.kernel.invokeFunction('convertToInteractive',\n",
              "                                                     [key], {});\n",
              "          if (!dataTable) return;\n",
              "\n",
              "          const docLinkHtml = 'Like what you see? Visit the ' +\n",
              "            '<a target=\"_blank\" href=https://colab.research.google.com/notebooks/data_table.ipynb>data table notebook</a>'\n",
              "            + ' to learn more about interactive tables.';\n",
              "          element.innerHTML = '';\n",
              "          dataTable['output_type'] = 'display_data';\n",
              "          await google.colab.output.renderOutput(dataTable, element);\n",
              "          const docLink = document.createElement('div');\n",
              "          docLink.innerHTML = docLinkHtml;\n",
              "          element.appendChild(docLink);\n",
              "        }\n",
              "      </script>\n",
              "    </div>\n",
              "  </div>\n",
              "  "
            ]
          },
          "metadata": {},
          "execution_count": 34
        }
      ]
    },
    {
      "cell_type": "code",
      "source": [
        "test_data.Treated_with_drugs.value_counts()"
      ],
      "metadata": {
        "colab": {
          "base_uri": "https://localhost:8080/"
        },
        "id": "Vz4Ye0Bjuqxx",
        "outputId": "559f7ad6-9376-41d0-c6c5-fc9938be6f61"
      },
      "execution_count": 35,
      "outputs": [
        {
          "output_type": "execute_result",
          "data": {
            "text/plain": [
              "DX6                     3462\n",
              "DX4                      785\n",
              "DX5                      782\n",
              "DX1                      753\n",
              "DX3                      747\n",
              "DX2                      745\n",
              "DX2 DX4                  181\n",
              "DX2 DX3                  179\n",
              "DX1 DX5                  166\n",
              "DX2 DX5                  165\n",
              "DX3 DX5                  161\n",
              "DX1 DX2                  160\n",
              "DX4 DX5                  157\n",
              "DX1 DX4                  153\n",
              "DX1 DX3                  152\n",
              "DX3 DX4                  148\n",
              "DX1 DX3 DX4               41\n",
              "DX1 DX2 DX5               41\n",
              "DX2 DX3 DX4               40\n",
              "DX1 DX2 DX3               40\n",
              "DX3 DX4 DX5               40\n",
              "DX1 DX2 DX4               38\n",
              "DX2 DX3 DX5               37\n",
              "DX1 DX4 DX5               34\n",
              "DX2 DX4 DX5               33\n",
              "DX1 DX3 DX5               23\n",
              "DX1 DX3 DX4 DX5           11\n",
              "DX2 DX3 DX4 DX5            8\n",
              "DX1 DX2 DX4 DX5            8\n",
              "DX1 DX2 DX3 DX5            6\n",
              "DX1 DX2 DX3 DX4            5\n",
              "DX1 DX2 DX3 DX4 DX5        2\n",
              "Name: Treated_with_drugs, dtype: int64"
            ]
          },
          "metadata": {},
          "execution_count": 35
        }
      ]
    },
    {
      "cell_type": "code",
      "source": [
        "list_drugs_test = test_data[\"Treated_with_drugs\"].str.get_dummies(sep = ' ')\n",
        "test_data = pd.concat([test_data, list_drugs_test], axis = 1)\n",
        "test_data = test_data.drop(\"Treated_with_drugs\", axis = 1)"
      ],
      "metadata": {
        "id": "HA3I-zpju0WH"
      },
      "execution_count": 36,
      "outputs": []
    },
    {
      "cell_type": "code",
      "source": [
        "test_data.isnull().sum()"
      ],
      "metadata": {
        "colab": {
          "base_uri": "https://localhost:8080/"
        },
        "id": "odVeomWkxZat",
        "outputId": "fadb268f-0cac-466b-e4c5-3dfe8cc15c64"
      },
      "execution_count": 37,
      "outputs": [
        {
          "output_type": "execute_result",
          "data": {
            "text/plain": [
              "ID_Patient_Care_Situation    0\n",
              "Diagnosed_Condition          0\n",
              "Patient_ID                   0\n",
              "Patient_Age                  0\n",
              "Patient_Body_Mass_Index      0\n",
              "Patient_Smoker               0\n",
              "Patient_Rural_Urban          0\n",
              "Patient_mental_condition     0\n",
              "A                            0\n",
              "B                            0\n",
              "C                            0\n",
              "D                            0\n",
              "E                            0\n",
              "F                            0\n",
              "Z                            0\n",
              "Number_of_prev_cond          0\n",
              "DX1                          0\n",
              "DX2                          0\n",
              "DX3                          0\n",
              "DX4                          0\n",
              "DX5                          0\n",
              "DX6                          0\n",
              "dtype: int64"
            ]
          },
          "metadata": {},
          "execution_count": 37
        }
      ]
    },
    {
      "cell_type": "code",
      "source": [
        "test_data.info()"
      ],
      "metadata": {
        "colab": {
          "base_uri": "https://localhost:8080/"
        },
        "id": "G4toVzjJxbmy",
        "outputId": "6aaa9e44-72b8-465e-d5c8-4f20b92b8ac7"
      },
      "execution_count": 38,
      "outputs": [
        {
          "output_type": "stream",
          "name": "stdout",
          "text": [
            "<class 'pandas.core.frame.DataFrame'>\n",
            "RangeIndex: 9303 entries, 0 to 9302\n",
            "Data columns (total 22 columns):\n",
            " #   Column                     Non-Null Count  Dtype  \n",
            "---  ------                     --------------  -----  \n",
            " 0   ID_Patient_Care_Situation  9303 non-null   int64  \n",
            " 1   Diagnosed_Condition        9303 non-null   int64  \n",
            " 2   Patient_ID                 9303 non-null   int64  \n",
            " 3   Patient_Age                9303 non-null   int64  \n",
            " 4   Patient_Body_Mass_Index    9303 non-null   float64\n",
            " 5   Patient_Smoker             9303 non-null   object \n",
            " 6   Patient_Rural_Urban        9303 non-null   object \n",
            " 7   Patient_mental_condition   9303 non-null   object \n",
            " 8   A                          9303 non-null   float64\n",
            " 9   B                          9303 non-null   float64\n",
            " 10  C                          9303 non-null   float64\n",
            " 11  D                          9303 non-null   float64\n",
            " 12  E                          9303 non-null   float64\n",
            " 13  F                          9303 non-null   float64\n",
            " 14  Z                          9303 non-null   float64\n",
            " 15  Number_of_prev_cond        9303 non-null   float64\n",
            " 16  DX1                        9303 non-null   int64  \n",
            " 17  DX2                        9303 non-null   int64  \n",
            " 18  DX3                        9303 non-null   int64  \n",
            " 19  DX4                        9303 non-null   int64  \n",
            " 20  DX5                        9303 non-null   int64  \n",
            " 21  DX6                        9303 non-null   int64  \n",
            "dtypes: float64(9), int64(10), object(3)\n",
            "memory usage: 1.6+ MB\n"
          ]
        }
      ]
    },
    {
      "cell_type": "code",
      "source": [
        "test_data.Patient_mental_condition.value_counts()"
      ],
      "metadata": {
        "colab": {
          "base_uri": "https://localhost:8080/"
        },
        "id": "2CDoiWIZx0ET",
        "outputId": "a47c123d-5204-4c5f-8b7d-b425321ee796"
      },
      "execution_count": 39,
      "outputs": [
        {
          "output_type": "execute_result",
          "data": {
            "text/plain": [
              "Stable    9303\n",
              "Name: Patient_mental_condition, dtype: int64"
            ]
          },
          "metadata": {},
          "execution_count": 39
        }
      ]
    },
    {
      "cell_type": "code",
      "source": [
        "test_data = test_data.drop(\"Patient_mental_condition\", axis = 1)"
      ],
      "metadata": {
        "id": "sykoj0mKxx_D"
      },
      "execution_count": 40,
      "outputs": []
    },
    {
      "cell_type": "code",
      "source": [
        "test_data = pd.get_dummies(test_data, columns=['Patient_Smoker', 'Patient_Rural_Urban'])\n"
      ],
      "metadata": {
        "id": "0ZqSibFMyAi0"
      },
      "execution_count": 41,
      "outputs": []
    },
    {
      "cell_type": "code",
      "source": [
        "test_data.info()"
      ],
      "metadata": {
        "colab": {
          "base_uri": "https://localhost:8080/"
        },
        "id": "yqmLJqmsyFYP",
        "outputId": "87fbeb50-788a-44e3-a415-9deaae8d1a39"
      },
      "execution_count": 42,
      "outputs": [
        {
          "output_type": "stream",
          "name": "stdout",
          "text": [
            "<class 'pandas.core.frame.DataFrame'>\n",
            "RangeIndex: 9303 entries, 0 to 9302\n",
            "Data columns (total 23 columns):\n",
            " #   Column                     Non-Null Count  Dtype  \n",
            "---  ------                     --------------  -----  \n",
            " 0   ID_Patient_Care_Situation  9303 non-null   int64  \n",
            " 1   Diagnosed_Condition        9303 non-null   int64  \n",
            " 2   Patient_ID                 9303 non-null   int64  \n",
            " 3   Patient_Age                9303 non-null   int64  \n",
            " 4   Patient_Body_Mass_Index    9303 non-null   float64\n",
            " 5   A                          9303 non-null   float64\n",
            " 6   B                          9303 non-null   float64\n",
            " 7   C                          9303 non-null   float64\n",
            " 8   D                          9303 non-null   float64\n",
            " 9   E                          9303 non-null   float64\n",
            " 10  F                          9303 non-null   float64\n",
            " 11  Z                          9303 non-null   float64\n",
            " 12  Number_of_prev_cond        9303 non-null   float64\n",
            " 13  DX1                        9303 non-null   int64  \n",
            " 14  DX2                        9303 non-null   int64  \n",
            " 15  DX3                        9303 non-null   int64  \n",
            " 16  DX4                        9303 non-null   int64  \n",
            " 17  DX5                        9303 non-null   int64  \n",
            " 18  DX6                        9303 non-null   int64  \n",
            " 19  Patient_Smoker_NO          9303 non-null   uint8  \n",
            " 20  Patient_Smoker_YES         9303 non-null   uint8  \n",
            " 21  Patient_Rural_Urban_RURAL  9303 non-null   uint8  \n",
            " 22  Patient_Rural_Urban_URBAN  9303 non-null   uint8  \n",
            "dtypes: float64(9), int64(10), uint8(4)\n",
            "memory usage: 1.4 MB\n"
          ]
        }
      ]
    },
    {
      "cell_type": "markdown",
      "source": [
        "## Predicting for test data"
      ],
      "metadata": {
        "id": "u9rixsxrCiP7"
      }
    },
    {
      "cell_type": "code",
      "source": [
        "test_pred = dt_clf.predict(test_data)"
      ],
      "metadata": {
        "id": "3AfRtnBb6GQG"
      },
      "execution_count": 43,
      "outputs": []
    },
    {
      "cell_type": "code",
      "source": [
        "result = pd.DataFrame(test_pred)\n",
        "result.index = test_data.index\n",
        "result.columns = [\"prediction\"]"
      ],
      "metadata": {
        "id": "4O1DANVZ_PFV"
      },
      "execution_count": 44,
      "outputs": []
    },
    {
      "cell_type": "code",
      "source": [
        "from google.colab import files\n",
        "result.to_csv('prediction.csv', index=False)         \n",
        "files.download('prediction.csv')"
      ],
      "metadata": {
        "colab": {
          "base_uri": "https://localhost:8080/",
          "height": 17
        },
        "id": "a0qgjPf6_9CH",
        "outputId": "0add7a74-ec6a-407d-d746-2766c1406c91"
      },
      "execution_count": 45,
      "outputs": [
        {
          "output_type": "display_data",
          "data": {
            "text/plain": [
              "<IPython.core.display.Javascript object>"
            ],
            "application/javascript": [
              "\n",
              "    async function download(id, filename, size) {\n",
              "      if (!google.colab.kernel.accessAllowed) {\n",
              "        return;\n",
              "      }\n",
              "      const div = document.createElement('div');\n",
              "      const label = document.createElement('label');\n",
              "      label.textContent = `Downloading \"${filename}\": `;\n",
              "      div.appendChild(label);\n",
              "      const progress = document.createElement('progress');\n",
              "      progress.max = size;\n",
              "      div.appendChild(progress);\n",
              "      document.body.appendChild(div);\n",
              "\n",
              "      const buffers = [];\n",
              "      let downloaded = 0;\n",
              "\n",
              "      const channel = await google.colab.kernel.comms.open(id);\n",
              "      // Send a message to notify the kernel that we're ready.\n",
              "      channel.send({})\n",
              "\n",
              "      for await (const message of channel.messages) {\n",
              "        // Send a message to notify the kernel that we're ready.\n",
              "        channel.send({})\n",
              "        if (message.buffers) {\n",
              "          for (const buffer of message.buffers) {\n",
              "            buffers.push(buffer);\n",
              "            downloaded += buffer.byteLength;\n",
              "            progress.value = downloaded;\n",
              "          }\n",
              "        }\n",
              "      }\n",
              "      const blob = new Blob(buffers, {type: 'application/binary'});\n",
              "      const a = document.createElement('a');\n",
              "      a.href = window.URL.createObjectURL(blob);\n",
              "      a.download = filename;\n",
              "      div.appendChild(a);\n",
              "      a.click();\n",
              "      div.remove();\n",
              "    }\n",
              "  "
            ]
          },
          "metadata": {}
        },
        {
          "output_type": "display_data",
          "data": {
            "text/plain": [
              "<IPython.core.display.Javascript object>"
            ],
            "application/javascript": [
              "download(\"download_312f81c5-9b1d-40b8-a58e-a5364d5363b0\", \"prediction.csv\", 18617)"
            ]
          },
          "metadata": {}
        }
      ]
    }
  ]
}